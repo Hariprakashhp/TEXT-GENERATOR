{
  "nbformat": 4,
  "nbformat_minor": 0,
  "metadata": {
    "colab": {
      "private_outputs": true,
      "provenance": [],
      "authorship_tag": "ABX9TyOAS+Jq/PS5fgRw7i+PAkJv",
      "include_colab_link": true
    },
    "kernelspec": {
      "name": "python3",
      "display_name": "Python 3"
    },
    "language_info": {
      "name": "python"
    }
  },
  "cells": [
    {
      "cell_type": "markdown",
      "metadata": {
        "id": "view-in-github",
        "colab_type": "text"
      },
      "source": [
        "<a href=\"https://colab.research.google.com/github/Hariprakashhp/TEXT-GENERATOR/blob/main/Text_Generation.ipynb\" target=\"_parent\"><img src=\"https://colab.research.google.com/assets/colab-badge.svg\" alt=\"Open In Colab\"/></a>"
      ]
    },
    {
      "cell_type": "code",
      "execution_count": null,
      "metadata": {
        "id": "zcCpjIPim5bk"
      },
      "outputs": [],
      "source": [
        "pip install transformers torch\n"
      ]
    },
    {
      "cell_type": "code",
      "source": [
        "# Use a pipeline as a high-level helper\n",
        "from transformers import pipeline\n",
        "\n",
        "text_generator = pipeline(\"text-generation\", model=\"Sharathhebbar24/chat_gpt2_dpo\")"
      ],
      "metadata": {
        "id": "MQil1gE24Hbv"
      },
      "execution_count": null,
      "outputs": []
    },
    {
      "cell_type": "code",
      "source": [
        "def generate_text(prompt, max_length=50, num_return_sequences=1):\n",
        "    # Generate text based on the given prompt\n",
        "    generated_texts = text_generator(\n",
        "        prompt,\n",
        "        max_length=max_length,\n",
        "        num_return_sequences=num_return_sequences,\n",
        "        no_repeat_ngram_size=2,   # Prevent repeating phrases\n",
        "        top_p=0.95,              # Nucleus sampling for coherence\n",
        "        top_k=50,                # Top-k sampling for diversity\n",
        "        temperature=0.7,         # Control randomness\n",
        "        do_sample=True           # Enable sampling for varied outputs\n",
        "    )\n",
        "\n",
        "    # Extract and return the generated texts\n",
        "    return [text['generated_text'] for text in generated_texts]\n",
        "\n"
      ],
      "metadata": {
        "id": "7cNDhbOK4qru"
      },
      "execution_count": null,
      "outputs": []
    },
    {
      "cell_type": "code",
      "source": [
        "# Example usage\n",
        "prompt = \"Once upon a time in a land far away\"\n",
        "generated_text = generate_text(prompt)\n",
        "print(generated_text[0])  # Print the first generated sequence\n"
      ],
      "metadata": {
        "id": "u8drLm1l5MT6"
      },
      "execution_count": null,
      "outputs": []
    },
    {
      "cell_type": "code",
      "source": [],
      "metadata": {
        "id": "TNXOd8_-6PED"
      },
      "execution_count": null,
      "outputs": []
    }
  ]
}